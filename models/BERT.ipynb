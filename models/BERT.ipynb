{
 "cells": [
  {
   "cell_type": "code",
   "execution_count": 35,
   "id": "db689f40",
   "metadata": {},
   "outputs": [],
   "source": [
    "import os\n",
    "import json\n",
    "import re"
   ]
  },
  {
   "cell_type": "code",
   "execution_count": null,
   "id": "da1a75a8",
   "metadata": {},
   "outputs": [],
   "source": [
    "# def ConvertVocab(path):\n",
    "#     index = 0\n",
    "#     vocab = dict()\n",
    "#     with open(path, \"r\", encoding=\"utf-8\") as f:\n",
    "#         for word in f:            \n",
    "#             vocab[word.strip()] = index\n",
    "#             index += 1\n",
    "#     with open(\"vocabBert.txt\", \"w\") as f:\n",
    "#         json.dump(vocab, f)"
   ]
  },
  {
   "cell_type": "code",
   "execution_count": 46,
   "id": "b8461945",
   "metadata": {},
   "outputs": [],
   "source": [
    "class tokenizer:\n",
    "    def __init__(self, path = r\"C:\\Users\\shiva\\Desktop\\IISC\\code\\NeuroCpp\\Projects\\The Dream\\embedding\\vocabBert.txt\"):\n",
    "        self.path = path\n",
    "        with open(path, \"r\") as f:\n",
    "            self.vocab = json.load(f)\n",
    "            \n",
    "        self.reverseVocab = dict()\n",
    "        for i in self.vocab.keys():\n",
    "            self.reverseVocab[self.vocab[i]] = i    \n",
    "\n",
    "    def EncodeWord(self, word):\n",
    "        if(word in self.vocab):\n",
    "            return [self.vocab[word]]\n",
    "        res = []\n",
    "        for i in range(len(word) - 1, -1, -1):\n",
    "            if(word[:i] in self.vocab):\n",
    "                res.append(self.vocab[word[:i]])\n",
    "                res.extend(self.EncodeWord(\"##\" + word[i:]))\n",
    "                break\n",
    "        return res\n",
    "    \n",
    "    def SplitWord(self, txt):\n",
    "        res = []\n",
    "        currentTxt = \"\"\n",
    "        for ch in txt:\n",
    "            if(ch == \" \"):\n",
    "                if(currentTxt != \"\"):\n",
    "                    res.append(currentTxt)\n",
    "                currentTxt = \"\"\n",
    "                continue\n",
    "            elif(re.match(r\"[^a-z0-9]\", ch)):\n",
    "                if(currentTxt != \"\"):\n",
    "                    res.append(currentTxt)\n",
    "                res.append(ch)\n",
    "                currentTxt = \"\"\n",
    "                continue\n",
    "            currentTxt += ch\n",
    "        return res\n",
    "                \n",
    "\n",
    "    def encode(self, txt):\n",
    "        txt = txt.replace(\"\\n\", \" \").lower()\n",
    "        words = self.SplitWord(txt)\n",
    "        res = []\n",
    "        for word in words:\n",
    "            res.extend(self.EncodeWord(word))\n",
    "        return res\n",
    "    \n",
    "    def decode(self, li):\n",
    "        pass"
   ]
  },
  {
   "cell_type": "code",
   "execution_count": 51,
   "id": "70ce577b",
   "metadata": {},
   "outputs": [
    {
     "data": {
      "text/plain": [
       "[7592,\n",
       " 1010,\n",
       " 1010,\n",
       " 1010,\n",
       " 2088,\n",
       " 999,\n",
       " 999,\n",
       " 4413,\n",
       " 1030,\n",
       " 1030,\n",
       " 1030,\n",
       " 2330,\n",
       " 4886,\n",
       " 1001,\n",
       " 1001,\n",
       " 2003,\n",
       " 1011,\n",
       " 1011,\n",
       " 1011,\n",
       " 2307,\n",
       " 1029,\n",
       " 1029,\n",
       " 1029,\n",
       " 17953,\n",
       " 2361,\n",
       " 1011,\n",
       " 1011,\n",
       " 1011,\n",
       " 5749,\n",
       " 1024,\n",
       " 1007,\n",
       " 1031,\n",
       " 15171,\n",
       " 10790,\n",
       " 1033]"
      ]
     },
     "execution_count": 51,
     "metadata": {},
     "output_type": "execute_result"
    }
   ],
   "source": [
    "tkn = tokenizer()\n",
    "tkn.encode(\"  Hello,,,   WORLD!! 42@@@openAI##   is---great??? \\n\\n   NLP---rocks :)    [unused10] \".lower())"
   ]
  }
 ],
 "metadata": {
  "kernelspec": {
   "display_name": "Python 3",
   "language": "python",
   "name": "python3"
  },
  "language_info": {
   "codemirror_mode": {
    "name": "ipython",
    "version": 3
   },
   "file_extension": ".py",
   "mimetype": "text/x-python",
   "name": "python",
   "nbconvert_exporter": "python",
   "pygments_lexer": "ipython3",
   "version": "3.11.5"
  }
 },
 "nbformat": 4,
 "nbformat_minor": 5
}
