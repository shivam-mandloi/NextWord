{
 "cells": [
  {
   "cell_type": "code",
   "execution_count": 11,
   "id": "db689f40",
   "metadata": {},
   "outputs": [],
   "source": [
    "import json\n",
    "import re\n",
    "import torch.nn as nn\n",
    "import torch"
   ]
  },
  {
   "cell_type": "code",
   "execution_count": 12,
   "id": "da1a75a8",
   "metadata": {},
   "outputs": [],
   "source": [
    "# def ConvertVocab(path):\n",
    "#     index = 0\n",
    "#     vocab = dict()\n",
    "#     with open(path, \"r\", encoding=\"utf-8\") as f:\n",
    "#         for word in f:            \n",
    "#             vocab[word.strip()] = index\n",
    "#             index += 1\n",
    "#     with open(\"vocabBert.txt\", \"w\") as f:\n",
    "#         json.dump(vocab, f)"
   ]
  },
  {
   "cell_type": "code",
   "execution_count": 13,
   "id": "2057a6ff",
   "metadata": {},
   "outputs": [
    {
     "data": {
      "text/plain": [
       "torch.Size([10, 5, 2])"
      ]
     },
     "execution_count": 13,
     "metadata": {},
     "output_type": "execute_result"
    }
   ],
   "source": [
    "a = torch.rand((10, 10)).reshape(-1, 5, 2)\n",
    "a.shape"
   ]
  },
  {
   "cell_type": "code",
   "execution_count": 69,
   "id": "22db6177",
   "metadata": {},
   "outputs": [],
   "source": [
    "class Attention(nn.Module):\n",
    "    def __init__(self):\n",
    "        super().__init__()\n",
    "        self.query = nn.Linear(in_features=768, out_features=768)\n",
    "        self.key = nn.Linear(in_features=768, out_features=768)\n",
    "        self.value = nn.Linear(in_features=768, out_features=768)\n",
    "        self.drpOut = nn.Dropout(p = 0.1)\n",
    "        self.linear = nn.Linear(in_features=768, out_features=768)\n",
    "        self.lNorm = nn.LayerNorm(768, eps=1e-12)\n",
    "\n",
    "        self.softmax = nn.Softmax(dim=-1)\n",
    "\n",
    "        self.qkvDim = 64\n",
    "        self.numHead = 12\n",
    "\n",
    "\n",
    "    def forward(self, x):\n",
    "        q = self.query(x)\n",
    "        k = self.key(x)\n",
    "        v = self.value(x)\n",
    "\n",
    "        batch, seqLen, hiddenDim = x.shape\n",
    "        q = q.reshape(batch, seqLen, 12, 64).permute(0, 2, 1, 3)\n",
    "        k = k.reshape(batch, seqLen, 12, 64).permute(0, 2, 3, 1)\n",
    "        v = v.reshape(batch, seqLen, 12, 64).permute(0, 2, 1, 3)\n",
    "\n",
    "        score = (q @ k) / 8 # root(64) = 8\n",
    "        sf = self.softmax(score)\n",
    "        sf = self.drpOut(sf)\n",
    "        attnOut = (sf @ v).permute(0, 2, 1, 3).contiguous(). view(batch, seqLen, hiddenDim)\n",
    "\n",
    "        hiddenOut = self.linear(attnOut)\n",
    "        hiddenOut = self.drpOut(hiddenOut)\n",
    "        hiddenOut = self.lNorm(hiddenOut + x)\n",
    "\n",
    "        return hiddenOut + attnOut\n",
    "\n",
    "class MLP(nn.Module):\n",
    "    def __init__(self):\n",
    "        super().__init__()\n",
    "        self.linear1 = nn.Linear(in_features=768, out_features=3072)\n",
    "        self.gelu = nn.GELU()\n",
    "        self.linear2 = nn.Linear(in_features=3072, out_features=768)\n",
    "        self.lNorm = nn.LayerNorm(768, eps=1e-12)\n",
    "        self.drpOut = nn.Dropout(p = 0.1)\n",
    "\n",
    "    def forward(self, x):\n",
    "        hiddenOut = self.linear1(x)\n",
    "        hiddenOut = self.gelu(hiddenOut)\n",
    "        hiddenOut = self.linear2(hiddenOut)\n",
    "        hiddenOut = self.drpOut(hiddenOut)\n",
    "        return self.lNorm(hiddenOut + x)\n",
    "\n",
    "class Transformer(nn.Module):\n",
    "    def __init__(self):\n",
    "        super().__init__()\n",
    "        self.attn = Attention()\n",
    "        self.mlp = MLP()\n",
    "    \n",
    "    def forward(self, x):\n",
    "        attn = self.attn(x)\n",
    "        return self.mlp(attn)\n",
    "\n",
    "class BERT(nn.Module):\n",
    "    def __init__(self):\n",
    "        super().__init__()\n",
    "        self.wordEmbd = nn.Embedding(num_embeddings=30522, embedding_dim=768)\n",
    "        self.posEmbd = nn.Embedding(num_embeddings=512, embedding_dim=768)\n",
    "        self.tokenEmbd = nn.Embedding(num_embeddings=2, embedding_dim=768)\n",
    "        self.layerNorm = nn.LayerNorm(768, eps=1e-12)\n",
    "        self.drpOut = nn.Dropout(p=0.1)\n",
    "        self.layers = nn.ModuleList([\n",
    "            Transformer() for _ in range(12)\n",
    "        ])\n",
    "    \n",
    "    def forward(self, x):\n",
    "        tokenEmbedInput = torch.zeros(x.shape, dtype=torch.int)\n",
    "        # Only consider that there is only one sentence\n",
    "        # That's why always take 0 index for the token embedding\n",
    "        batchSize, seqLen = x.shape\n",
    "        posIndex = torch.arange(0, seqLen).expand(batchSize, seqLen)\n",
    "        x = self.wordEmbd(x) + self.posEmbd(posIndex) + self.tokenEmbd(tokenEmbedInput)\n",
    "        x = self.layerNorm(x)\n",
    "        x = self.drpOut(x)\n",
    "        for layer in self.layers:\n",
    "            x = layer(x)\n",
    "        return x"
   ]
  },
  {
   "cell_type": "code",
   "execution_count": 70,
   "id": "b8461945",
   "metadata": {},
   "outputs": [],
   "source": [
    "class tokenizer:\n",
    "    def __init__(self, path = r\"C:\\Users\\shiva\\Desktop\\IISC\\code\\NeuroCpp\\Projects\\The Dream\\embedding\\vocabBert.txt\"):\n",
    "        self.path = path\n",
    "        with open(path, \"r\") as f:\n",
    "            self.vocab = json.load(f)\n",
    "            \n",
    "        self.reverseVocab = dict()\n",
    "        for i in self.vocab.keys():\n",
    "            self.reverseVocab[self.vocab[i]] = i    \n",
    "\n",
    "    def EncodeWord(self, word):\n",
    "        if(word in self.vocab):\n",
    "            return [self.vocab[word]]\n",
    "        res = []\n",
    "        for i in range(len(word) - 1, -1, -1):\n",
    "            if(word[:i] in self.vocab):\n",
    "                res.append(self.vocab[word[:i]])\n",
    "                res.extend(self.EncodeWord(\"##\" + word[i:]))\n",
    "                break\n",
    "        return res\n",
    "    \n",
    "    def SplitWord(self, txt):\n",
    "        res = []\n",
    "        currentTxt = \"\"\n",
    "        for ch in txt:\n",
    "            if(ch == \" \"):\n",
    "                if(currentTxt != \"\"):\n",
    "                    res.append(currentTxt)\n",
    "                currentTxt = \"\"\n",
    "                continue\n",
    "            elif(re.match(r\"[^a-z0-9]\", ch)):\n",
    "                if(currentTxt != \"\"):\n",
    "                    res.append(currentTxt)\n",
    "                res.append(ch)\n",
    "                currentTxt = \"\"\n",
    "                continue\n",
    "            currentTxt += ch\n",
    "        return res\n",
    "                \n",
    "\n",
    "    def encode(self, txt):\n",
    "        txt = txt.replace(\"\\n\", \" \").lower()\n",
    "        words = self.SplitWord(txt)\n",
    "        res = []\n",
    "        for word in words:\n",
    "            res.extend(self.EncodeWord(word))\n",
    "        return res\n",
    "    \n",
    "    def decode(self, li):\n",
    "        pass"
   ]
  },
  {
   "cell_type": "code",
   "execution_count": 71,
   "id": "70ce577b",
   "metadata": {},
   "outputs": [],
   "source": [
    "tkn = tokenizer()\n",
    "encodeVec = tkn.encode(\"  Hello,,,   WORLD!! 42@@@openAI##   is---great??? \\n\\n   NLP---rocks :)    [unused10] \".lower())"
   ]
  },
  {
   "cell_type": "code",
   "execution_count": 74,
   "id": "caed6d7a",
   "metadata": {},
   "outputs": [
    {
     "data": {
      "text/plain": [
       "35"
      ]
     },
     "execution_count": 74,
     "metadata": {},
     "output_type": "execute_result"
    }
   ],
   "source": [
    "len(encodeVec)"
   ]
  },
  {
   "cell_type": "code",
   "execution_count": 72,
   "id": "68f12803",
   "metadata": {},
   "outputs": [
    {
     "data": {
      "text/plain": [
       "torch.Size([1, 35, 768])"
      ]
     },
     "execution_count": 72,
     "metadata": {},
     "output_type": "execute_result"
    }
   ],
   "source": [
    "model = BERT()\n",
    "model(torch.tensor(encodeVec).view(1,len(encodeVec))).shape"
   ]
  },
  {
   "cell_type": "code",
   "execution_count": null,
   "id": "aee4abb0",
   "metadata": {},
   "outputs": [],
   "source": []
  }
 ],
 "metadata": {
  "kernelspec": {
   "display_name": "Python 3",
   "language": "python",
   "name": "python3"
  },
  "language_info": {
   "codemirror_mode": {
    "name": "ipython",
    "version": 3
   },
   "file_extension": ".py",
   "mimetype": "text/x-python",
   "name": "python",
   "nbconvert_exporter": "python",
   "pygments_lexer": "ipython3",
   "version": "3.11.5"
  }
 },
 "nbformat": 4,
 "nbformat_minor": 5
}
