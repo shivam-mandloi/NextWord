{
 "cells": [
  {
   "cell_type": "code",
   "execution_count": 1,
   "id": "e538057a",
   "metadata": {},
   "outputs": [
    {
     "name": "stderr",
     "output_type": "stream",
     "text": [
      "c:\\Users\\shiva\\AppData\\Local\\Programs\\Python\\Python311\\Lib\\site-packages\\tqdm\\auto.py:21: TqdmWarning: IProgress not found. Please update jupyter and ipywidgets. See https://ipywidgets.readthedocs.io/en/stable/user_install.html\n",
      "  from .autonotebook import tqdm as notebook_tqdm\n"
     ]
    }
   ],
   "source": [
    "from transformers import AutoTokenizer, AutoModelForSequenceClassification\n",
    "import torch"
   ]
  },
  {
   "cell_type": "code",
   "execution_count": 6,
   "id": "73505f79",
   "metadata": {},
   "outputs": [
    {
     "name": "stdout",
     "output_type": "stream",
     "text": [
      "Input text:   Hello,,,   WORLD!! 42@@@openAI##   is---great??? \n",
      "\n",
      "   NLP---rocks :)    [unused10] \n",
      "Tokenized input IDs: tensor([[  101,  7592,  1010,  1010,  1010,  2088,   999,   999,  4413,  1030,\n",
      "          1030,  1030,  2330,  4886,  1001,  1001,  2003,  1011,  1011,  1011,\n",
      "          2307,  1029,  1029,  1029, 17953,  2361,  1011,  1011,  1011,  5749,\n",
      "          1024,  1007,  1031, 15171, 10790,  1033,   102]])\n",
      "Last hidden state shape: torch.Size([1, 37, 768])\n"
     ]
    }
   ],
   "source": [
    "from transformers import BertTokenizer, BertModel, pipeline\n",
    "\n",
    "def load_bert_base():\n",
    "    \"\"\"\n",
    "    Load Hugging Face's original BERT-base (uncased) model.\n",
    "    - 12 layers\n",
    "    - 12 attention heads\n",
    "    - Hidden size 768\n",
    "    \"\"\"\n",
    "    model_name = \"bert-base-uncased\"\n",
    "    \n",
    "    # Load tokenizer and model\n",
    "    tokenizer = BertTokenizer.from_pretrained(model_name)\n",
    "    model = BertModel.from_pretrained(model_name)\n",
    "\n",
    "    return tokenizer, model\n",
    "\n",
    "\n",
    "if __name__ == \"__main__\":\n",
    "    tokenizer, model = load_bert_base()\n",
    "\n",
    "    # Example input\n",
    "    text = \"  Hello,,,   WORLD!! 42@@@openAI##   is---great??? \\n\\n   NLP---rocks :)    [unused10] \"\n",
    "    inputs = tokenizer(text, return_tensors=\"pt\")\n",
    "\n",
    "    # Forward pass (get hidden states)\n",
    "    outputs = model(**inputs)\n",
    "\n",
    "    # The last hidden state representation\n",
    "    last_hidden_state = outputs.last_hidden_state\n",
    "\n",
    "    print(\"Input text:\", text)\n",
    "    print(\"Tokenized input IDs:\", inputs[\"input_ids\"])\n",
    "    print(\"Last hidden state shape:\", last_hidden_state.shape)\n"
   ]
  },
  {
   "cell_type": "code",
   "execution_count": 26,
   "id": "a704b2d9",
   "metadata": {},
   "outputs": [
    {
     "data": {
      "text/plain": [
       "BertModel(\n",
       "  (embeddings): BertEmbeddings(\n",
       "    (word_embeddings): Embedding(30522, 768, padding_idx=0)\n",
       "    (position_embeddings): Embedding(512, 768)\n",
       "    (token_type_embeddings): Embedding(2, 768)\n",
       "    (LayerNorm): LayerNorm((768,), eps=1e-12, elementwise_affine=True)\n",
       "    (dropout): Dropout(p=0.1, inplace=False)\n",
       "  )\n",
       "  (encoder): BertEncoder(\n",
       "    (layer): ModuleList(\n",
       "      (0-11): 12 x BertLayer(\n",
       "        (attention): BertAttention(\n",
       "          (self): BertSelfAttention(\n",
       "            (query): Linear(in_features=768, out_features=768, bias=True)\n",
       "            (key): Linear(in_features=768, out_features=768, bias=True)\n",
       "            (value): Linear(in_features=768, out_features=768, bias=True)\n",
       "            (dropout): Dropout(p=0.1, inplace=False)\n",
       "          )\n",
       "          (output): BertSelfOutput(\n",
       "            (dense): Linear(in_features=768, out_features=768, bias=True)\n",
       "            (LayerNorm): LayerNorm((768,), eps=1e-12, elementwise_affine=True)\n",
       "            (dropout): Dropout(p=0.1, inplace=False)\n",
       "          )\n",
       "        )\n",
       "        (intermediate): BertIntermediate(\n",
       "          (dense): Linear(in_features=768, out_features=3072, bias=True)\n",
       "          (intermediate_act_fn): GELUActivation()\n",
       "        )\n",
       "        (output): BertOutput(\n",
       "          (dense): Linear(in_features=3072, out_features=768, bias=True)\n",
       "          (LayerNorm): LayerNorm((768,), eps=1e-12, elementwise_affine=True)\n",
       "          (dropout): Dropout(p=0.1, inplace=False)\n",
       "        )\n",
       "      )\n",
       "    )\n",
       "  )\n",
       "  (pooler): BertPooler(\n",
       "    (dense): Linear(in_features=768, out_features=768, bias=True)\n",
       "    (activation): Tanh()\n",
       "  )\n",
       ")"
      ]
     },
     "execution_count": 26,
     "metadata": {},
     "output_type": "execute_result"
    }
   ],
   "source": [
    "model"
   ]
  },
  {
   "cell_type": "code",
   "execution_count": 16,
   "id": "c07e523c",
   "metadata": {},
   "outputs": [
    {
     "name": "stderr",
     "output_type": "stream",
     "text": [
      "Some weights of the model checkpoint at bert-base-uncased were not used when initializing BertForMaskedLM: ['bert.pooler.dense.bias', 'bert.pooler.dense.weight', 'cls.seq_relationship.bias', 'cls.seq_relationship.weight']\n",
      "- This IS expected if you are initializing BertForMaskedLM from the checkpoint of a model trained on another task or with another architecture (e.g. initializing a BertForSequenceClassification model from a BertForPreTraining model).\n",
      "- This IS NOT expected if you are initializing BertForMaskedLM from the checkpoint of a model that you expect to be exactly identical (initializing a BertForSequenceClassification model from a BertForSequenceClassification model).\n",
      "Device set to use cuda:0\n"
     ]
    },
    {
     "name": "stdout",
     "output_type": "stream",
     "text": [
      "we are people of peace. (score: 0.1621)\n",
      "we are people of god. (score: 0.0769)\n",
      "we are people of faith. (score: 0.0533)\n",
      "we are people of honor. (score: 0.0413)\n",
      "we are people of light. (score: 0.0259)\n"
     ]
    }
   ],
   "source": [
    "from transformers import pipeline\n",
    "\n",
    "# Load BERT fill-mask pipeline\n",
    "unmasker = pipeline(\"fill-mask\", model=\"bert-base-uncased\")\n",
    "\n",
    "# Sentence with a [MASK] token\n",
    "text = \"We are people of [MASK].\"\n",
    "\n",
    "# Get predictions\n",
    "predictions = unmasker(text)\n",
    "\n",
    "for pred in predictions:\n",
    "    print(f\"{pred['sequence']} (score: {pred['score']:.4f})\")\n"
   ]
  }
 ],
 "metadata": {
  "kernelspec": {
   "display_name": "Python 3",
   "language": "python",
   "name": "python3"
  },
  "language_info": {
   "codemirror_mode": {
    "name": "ipython",
    "version": 3
   },
   "file_extension": ".py",
   "mimetype": "text/x-python",
   "name": "python",
   "nbconvert_exporter": "python",
   "pygments_lexer": "ipython3",
   "version": "3.11.5"
  }
 },
 "nbformat": 4,
 "nbformat_minor": 5
}
