{
 "cells": [
  {
   "cell_type": "markdown",
   "id": "4c650161",
   "metadata": {},
   "source": [
    "In this file we extracting all tags from our dataset, and create data for the model which predict the tags for new poem"
   ]
  },
  {
   "cell_type": "code",
   "execution_count": 48,
   "id": "79c1b01f",
   "metadata": {},
   "outputs": [],
   "source": [
    "import pandas as pd\n",
    "import numpy as np\n",
    "import re\n",
    "import os\n",
    "from tqdm import tqdm"
   ]
  },
  {
   "cell_type": "markdown",
   "id": "47f03da4",
   "metadata": {},
   "source": [
    "Dataset which consit poem with multiple tag"
   ]
  },
  {
   "cell_type": "code",
   "execution_count": 3,
   "id": "bf3188e1",
   "metadata": {},
   "outputs": [],
   "source": [
    "path = r\"C:\\Users\\shiva\\Desktop\\IISC\\code\\NeuroCpp\\Projects\\The Dream\\DataSet\\PeomWithTagDataSet.csv\"\n",
    "data = pd.read_csv(path)\n",
    "allTags = list(data.Tags)\n",
    "allPoem = list(data.Poem)"
   ]
  },
  {
   "cell_type": "code",
   "execution_count": 53,
   "id": "093e6623",
   "metadata": {},
   "outputs": [],
   "source": [
    "def SaveCSV(data, name):\n",
    "    df = pd.DataFrame(data)\n",
    "    df.to_csv(name, index=False)  "
   ]
  },
  {
   "cell_type": "code",
   "execution_count": null,
   "id": "5ac98637",
   "metadata": {},
   "outputs": [],
   "source": [
    "uniqueTag = dict()\n",
    "numberOfUniqueTags = 1\n",
    "for tag in allTags:\n",
    "    if(tag != \"poem\"):\n",
    "        for tagWord in re.split(r\"[,&]\", tag):\n",
    "            word = tagWord.strip().lower()\n",
    "            if word not in uniqueTag:\n",
    "                uniqueTag[word] = 1\n",
    "            else:\n",
    "                uniqueTag[word] += 1"
   ]
  },
  {
   "cell_type": "code",
   "execution_count": null,
   "id": "86d3e83c",
   "metadata": {},
   "outputs": [],
   "source": [
    "savePoem = []\n",
    "saveTag = []\n",
    "TagCraete = lambda a : a.strip().lower()\n",
    "for poem, tag in zip(allPoem, allTags):\n",
    "    if(tag != \"poem\"):\n",
    "        poem = ' '.join(poem.replace(\"\\r\\r\", \"\").replace(\"\\n\", \"Ċ\").split())\n",
    "        tagExtr = \",\".join(map(TagCraete, re.split(r\"[,&]\", tag)))\n",
    "        if(tagExtr == '' or tagExtr == \" \"):\n",
    "            tagExtr = \"default\"\n",
    "        savePoem.append(poem)\n",
    "        saveTag.append(tagExtr)\n",
    "saveData = {\"Tags\":saveTag, \"Poem\":savePoem}\n",
    "SaveCSV(saveData, \"multiTagedData.csv\")"
   ]
  },
  {
   "cell_type": "markdown",
   "id": "ef2fef9e",
   "metadata": {},
   "source": [
    "Dataset which consist single tag"
   ]
  },
  {
   "cell_type": "code",
   "execution_count": 56,
   "id": "7c71869f",
   "metadata": {},
   "outputs": [
    {
     "name": "stderr",
     "output_type": "stream",
     "text": [
      " 14%|█▍        | 21/145 [00:00<00:01, 103.48it/s]"
     ]
    },
    {
     "name": "stdout",
     "output_type": "stream",
     "text": [
      "[Errno 2] No such file or directory: 'C:\\\\Users\\\\shiva\\\\Desktop\\\\IISC\\\\code\\\\NeuroCpp\\\\Projects\\\\The Dream\\\\DataSet\\\\archive (1)\\\\topics\\\\believe\\\\BelievePoemsToBelieveThisThingIsntPerfectIsToBelieveItNeverWasPerfectAndToBelieveItNeverWasPerfectOrIsPerfectIsToBelieveItNeverCouldBeWillBeWouldBeAndPoembyJoshuaAaronGuillory.txt'\n",
      "[Errno 2] No such file or directory: 'C:\\\\Users\\\\shiva\\\\Desktop\\\\IISC\\\\code\\\\NeuroCpp\\\\Projects\\\\The Dream\\\\DataSet\\\\archive (1)\\\\topics\\\\believe\\\\BelievePoemsToNotBelieveThisThingIsPerfectIsToBelieveItNeverWasPerfectAndToNotBelieveItWasPerfectOrIsPerfectIsToBelieveItNeverCouldBeWillBeWouldBeAndPoembyJoshuaAaronGuillory.txt'\n",
      "[Errno 2] No such file or directory: 'C:\\\\Users\\\\shiva\\\\Desktop\\\\IISC\\\\code\\\\NeuroCpp\\\\Projects\\\\The Dream\\\\DataSet\\\\archive (1)\\\\topics\\\\chicago\\\\ChicagoPoemsOfComptonImNotTheLeastBitAfraidToTheThoughtOfChicagoIDrinkCoolAideOrLemonadeCosaNostraByThemICouldNeverDieTheFbiLikeStandingNextToAFlyPoembyJoshuaAaronGuillory.txt'\n",
      "[Errno 2] No such file or directory: 'C:\\\\Users\\\\shiva\\\\Desktop\\\\IISC\\\\code\\\\NeuroCpp\\\\Projects\\\\The Dream\\\\DataSet\\\\archive (1)\\\\topics\\\\chicago\\\\ChicagoPoemsOfComptonImNotTheLeastBitAfraidToTheThoughtOfChicagoIDrinkKoolAidOrLemonadeCosaNostraByThemICouldNeverDieTheFbiLikeStandingNextToAFlyPoembyJoshuaAaronGuillory.txt'\n"
     ]
    },
    {
     "name": "stderr",
     "output_type": "stream",
     "text": [
      " 37%|███▋      | 54/145 [00:00<00:00, 105.90it/s]"
     ]
    },
    {
     "name": "stdout",
     "output_type": "stream",
     "text": [
      "[Errno 2] No such file or directory: 'C:\\\\Users\\\\shiva\\\\Desktop\\\\IISC\\\\code\\\\NeuroCpp\\\\Projects\\\\The Dream\\\\DataSet\\\\archive (1)\\\\topics\\\\football\\\\FootballPoemsCaseInPointProvenIToldYouThatWeThePatriotsWillWinTheSuperbowlOfWorldPeaceButTheSellOfThePatriotsWinningTheFootballGamethisYearWasTheFalsehoodPoembyJoshuaAaronGuillory.txt'\n"
     ]
    },
    {
     "name": "stderr",
     "output_type": "stream",
     "text": [
      " 81%|████████  | 117/145 [00:01<00:00, 93.02it/s]"
     ]
    },
    {
     "name": "stdout",
     "output_type": "stream",
     "text": [
      "[Errno 2] No such file or directory: 'C:\\\\Users\\\\shiva\\\\Desktop\\\\IISC\\\\code\\\\NeuroCpp\\\\Projects\\\\The Dream\\\\DataSet\\\\archive (1)\\\\topics\\\\racism\\\\RacismPoemsTranslationOfRacismIsAroundMeEverywhereByFrancisDugganαªåαª«αª░αªÜαª░αª¬αª╢αª¢αº£αºƒαªåαª¢αª£αªñαª¼αªªαª¼αª╖αª«αª▓αª½αª░αª¿αª╕αª╕αªíαªùαª¿PoembyAlamSayed.txt'\n"
     ]
    },
    {
     "name": "stderr",
     "output_type": "stream",
     "text": [
      "100%|██████████| 145/145 [00:01<00:00, 94.84it/s]"
     ]
    },
    {
     "name": "stdout",
     "output_type": "stream",
     "text": [
      "[Errno 2] No such file or directory: 'C:\\\\Users\\\\shiva\\\\Desktop\\\\IISC\\\\code\\\\NeuroCpp\\\\Projects\\\\The Dream\\\\DataSet\\\\archive (1)\\\\topics\\\\sympathy\\\\SympathyPoemsMyMostPreciousGiftOfLoveIBestowToTheeDecoratedWithTheNaturalBeautyOfMeWrappedInKindnessSympathyAndGenerosityUnclothedForAllYouToSeeTheSweetPoembyJoshuaAaronGuillory.txt'\n",
      "14901 14901\n"
     ]
    },
    {
     "name": "stderr",
     "output_type": "stream",
     "text": [
      "\n"
     ]
    }
   ],
   "source": [
    "path = r\"C:\\Users\\shiva\\Desktop\\IISC\\code\\NeuroCpp\\Projects\\The Dream\\DataSet\\archive (1)\\topics\"\n",
    "\n",
    "def ReadFile(path):\n",
    "    try:\n",
    "        with open(path, \"r\", encoding=\"utf-8\") as f:\n",
    "            data = f.read()\n",
    "    except Exception as e:\n",
    "        print(e)\n",
    "        return \"Error\"\n",
    "    return data\n",
    "\n",
    "def GetAllFolderName(path):\n",
    "    return os.listdir(path)\n",
    "\n",
    "def GetAllPoem(path):\n",
    "    fileNames = os.listdir(path)\n",
    "    poems = []\n",
    "    for files in fileNames:\n",
    "        txtData = ReadFile(os.path.join(path, files))\n",
    "        if txtData != \"Error\":\n",
    "            poems.append(txtData.replace(\"\\n\", \"Ċ\"))\n",
    "    return poems\n",
    "\n",
    "savePoem = []\n",
    "saveTag = []\n",
    "allTag = GetAllFolderName(path)\n",
    "for tag in tqdm(allTag):\n",
    "    poems = GetAllPoem(os.path.join(path, tag))\n",
    "    saveTag.extend([tag] * len(poems))\n",
    "    savePoem.extend(poems)\n",
    "print(len(savePoem), len(saveTag))"
   ]
  },
  {
   "cell_type": "code",
   "execution_count": 57,
   "id": "9e6fceb4",
   "metadata": {},
   "outputs": [],
   "source": [
    "saveOneTagData = {\"Tags\":saveTag, \"Poem\":savePoem}\n",
    "SaveCSV(saveOneTagData, \"singleTagedData.csv\")"
   ]
  },
  {
   "cell_type": "code",
   "execution_count": null,
   "id": "1043dece",
   "metadata": {},
   "outputs": [],
   "source": []
  }
 ],
 "metadata": {
  "kernelspec": {
   "display_name": "Python 3",
   "language": "python",
   "name": "python3"
  },
  "language_info": {
   "codemirror_mode": {
    "name": "ipython",
    "version": 3
   },
   "file_extension": ".py",
   "mimetype": "text/x-python",
   "name": "python",
   "nbconvert_exporter": "python",
   "pygments_lexer": "ipython3",
   "version": "3.11.5"
  }
 },
 "nbformat": 4,
 "nbformat_minor": 5
}
